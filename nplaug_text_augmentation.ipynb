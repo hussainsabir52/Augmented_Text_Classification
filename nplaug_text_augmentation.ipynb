{
 "cells": [
  {
   "cell_type": "code",
   "execution_count": 1,
   "id": "ea022910-5acf-4d61-84ff-1eca2517d8b4",
   "metadata": {},
   "outputs": [
    {
     "name": "stdout",
     "output_type": "stream",
     "text": [
      "Requirement already satisfied: numpy in c:\\users\\hussain sabir\\anaconda3\\lib\\site-packages (1.26.4)\n",
      "Requirement already satisfied: requests in c:\\users\\hussain sabir\\anaconda3\\lib\\site-packages (2.31.0)\n",
      "Collecting nlpaug\n",
      "  Using cached nlpaug-1.1.11-py3-none-any.whl.metadata (14 kB)\n",
      "Requirement already satisfied: charset-normalizer<4,>=2 in c:\\users\\hussain sabir\\anaconda3\\lib\\site-packages (from requests) (2.0.4)\n",
      "Requirement already satisfied: idna<4,>=2.5 in c:\\users\\hussain sabir\\anaconda3\\lib\\site-packages (from requests) (3.4)\n",
      "Requirement already satisfied: urllib3<3,>=1.21.1 in c:\\users\\hussain sabir\\anaconda3\\lib\\site-packages (from requests) (2.0.7)\n",
      "Requirement already satisfied: certifi>=2017.4.17 in c:\\users\\hussain sabir\\anaconda3\\lib\\site-packages (from requests) (2024.2.2)\n",
      "Requirement already satisfied: pandas>=1.2.0 in c:\\users\\hussain sabir\\anaconda3\\lib\\site-packages (from nlpaug) (2.1.4)\n",
      "Collecting gdown>=4.0.0 (from nlpaug)\n",
      "  Using cached gdown-5.2.0-py3-none-any.whl.metadata (5.8 kB)\n",
      "Requirement already satisfied: beautifulsoup4 in c:\\users\\hussain sabir\\anaconda3\\lib\\site-packages (from gdown>=4.0.0->nlpaug) (4.12.2)\n",
      "Requirement already satisfied: filelock in c:\\users\\hussain sabir\\anaconda3\\lib\\site-packages (from gdown>=4.0.0->nlpaug) (3.13.1)\n",
      "Requirement already satisfied: tqdm in c:\\users\\hussain sabir\\anaconda3\\lib\\site-packages (from gdown>=4.0.0->nlpaug) (4.65.0)\n",
      "Requirement already satisfied: python-dateutil>=2.8.2 in c:\\users\\hussain sabir\\anaconda3\\lib\\site-packages (from pandas>=1.2.0->nlpaug) (2.8.2)\n",
      "Requirement already satisfied: pytz>=2020.1 in c:\\users\\hussain sabir\\anaconda3\\lib\\site-packages (from pandas>=1.2.0->nlpaug) (2023.3.post1)\n",
      "Requirement already satisfied: tzdata>=2022.1 in c:\\users\\hussain sabir\\anaconda3\\lib\\site-packages (from pandas>=1.2.0->nlpaug) (2023.3)\n",
      "Requirement already satisfied: six>=1.5 in c:\\users\\hussain sabir\\anaconda3\\lib\\site-packages (from python-dateutil>=2.8.2->pandas>=1.2.0->nlpaug) (1.16.0)\n",
      "Requirement already satisfied: soupsieve>1.2 in c:\\users\\hussain sabir\\anaconda3\\lib\\site-packages (from beautifulsoup4->gdown>=4.0.0->nlpaug) (2.5)\n",
      "Requirement already satisfied: PySocks!=1.5.7,>=1.5.6 in c:\\users\\hussain sabir\\anaconda3\\lib\\site-packages (from requests[socks]->gdown>=4.0.0->nlpaug) (1.7.1)\n",
      "Requirement already satisfied: colorama in c:\\users\\hussain sabir\\anaconda3\\lib\\site-packages (from tqdm->gdown>=4.0.0->nlpaug) (0.4.6)\n",
      "Using cached nlpaug-1.1.11-py3-none-any.whl (410 kB)\n",
      "Using cached gdown-5.2.0-py3-none-any.whl (18 kB)\n",
      "Installing collected packages: gdown, nlpaug\n",
      "Successfully installed gdown-5.2.0 nlpaug-1.1.11\n",
      "Note: you may need to restart the kernel to use updated packages.\n"
     ]
    }
   ],
   "source": [
    "pip install numpy requests nlpaug"
   ]
  },
  {
   "cell_type": "code",
   "execution_count": 3,
   "id": "90cdf189-4539-4d00-b883-362408e7c009",
   "metadata": {},
   "outputs": [
    {
     "name": "stdout",
     "output_type": "stream",
     "text": [
      "Note: you may need to restart the kernel to use updated packages.\n"
     ]
    }
   ],
   "source": [
    "pip install torch>=1.6.0 transformers>=4.11.3 sentencepiece"
   ]
  },
  {
   "cell_type": "code",
   "execution_count": 4,
   "id": "abd69d62-677a-4eba-8a9e-0b602a4c0f1b",
   "metadata": {},
   "outputs": [
    {
     "name": "stdout",
     "output_type": "stream",
     "text": [
      "Note: you may need to restart the kernel to use updated packages.\n"
     ]
    }
   ],
   "source": [
    "pip install simpletransformers>=0.61.10"
   ]
  },
  {
   "cell_type": "code",
   "execution_count": 5,
   "id": "653b44a4-b876-448d-8b46-283f11059421",
   "metadata": {},
   "outputs": [
    {
     "name": "stdout",
     "output_type": "stream",
     "text": [
      "Note: you may need to restart the kernel to use updated packages.\n"
     ]
    }
   ],
   "source": [
    "pip install nltk>=3.4.5"
   ]
  },
  {
   "cell_type": "code",
   "execution_count": 7,
   "id": "6811c284-2c32-4452-9172-3f01c11157b3",
   "metadata": {},
   "outputs": [],
   "source": [
    "from nlpaug.util.file.download import DownloadUtil\n",
    "DownloadUtil.download_word2vec(dest_dir='.') # Download word2vec model\n",
    "DownloadUtil.download_glove(model_name='glove.6B', dest_dir='.') # Download GloVe model\n",
    "DownloadUtil.download_fasttext(model_name='wiki-news-300d-1M', dest_dir='.') # Download fasttext model"
   ]
  },
  {
   "cell_type": "code",
   "execution_count": 8,
   "id": "b6291174-6764-4eaa-9ed2-8940e0cdde66",
   "metadata": {},
   "outputs": [
    {
     "name": "stdout",
     "output_type": "stream",
     "text": [
      "Note: you may need to restart the kernel to use updated packages.\n"
     ]
    }
   ],
   "source": [
    "pip install gensim>=4.1.2"
   ]
  },
  {
   "cell_type": "code",
   "execution_count": 1,
   "id": "15873a2c-1d9b-4648-bf13-0aaf878d50b1",
   "metadata": {},
   "outputs": [],
   "source": [
    "import nlpaug.augmenter.char as nac\n",
    "import nlpaug.augmenter.word as naw\n",
    "import nlpaug.augmenter.sentence as nas\n",
    "import nlpaug.flow as nafc\n",
    "from nlpaug.util import Action"
   ]
  },
  {
   "cell_type": "code",
   "execution_count": 2,
   "id": "e42716f5-77d2-422d-b38b-89543376dc70",
   "metadata": {},
   "outputs": [],
   "source": [
    "# Let's define some texts\n",
    "text = \"\"\"\n",
    "    I go daily to the gym, because I think fitness is the key to a healthy life.\n",
    "  \"\"\""
   ]
  },
  {
   "cell_type": "markdown",
   "id": "a91a3913-66ba-4e5f-8432-dc798b3eef02",
   "metadata": {},
   "source": [
    "# Word2Vec, Glove & Fasttext text augmentation models\n",
    "## Substitute vs Insert (Random)"
   ]
  },
  {
   "cell_type": "markdown",
   "id": "1b7952de-1ff1-441d-ab77-087fd279a90b",
   "metadata": {},
   "source": [
    "### Word2vec"
   ]
  },
  {
   "cell_type": "code",
   "execution_count": 14,
   "id": "060090d8-360a-4125-89d6-1b4a03f5d5d5",
   "metadata": {},
   "outputs": [
    {
     "name": "stdout",
     "output_type": "stream",
     "text": [
      "Original:\n",
      "\n",
      "    I go daily to the gym, because I think fitness is the key to a healthy life.\n",
      "  \n",
      "Augmented Text:\n",
      "['â_€_œI go weekday to the lifted_weights, because You think Mark_Bitcon is the key to a strong life.']\n"
     ]
    }
   ],
   "source": [
    "# Initialize the augmenter with model \"word2vec\"\n",
    "aug = naw.WordEmbsAug(\n",
    "  # You can choose from \"word2vec\", \"glove\", or \"fasttext\" \n",
    "  model_type = 'word2vec', \n",
    "  model_path = 'GoogleNews-vectors-negative300.bin',\n",
    "  # You may also choose \"insert\"\n",
    "  action = \"substitute\")\n",
    "\n",
    "# Augment the text\n",
    "augmented_text = aug.augment(text)\n",
    "print(\"Original:\")\n",
    "print(text)\n",
    "print(\"Augmented Text:\")\n",
    "print(augmented_text)"
   ]
  },
  {
   "cell_type": "code",
   "execution_count": 15,
   "id": "3caf9ca8-723a-4d1e-8dc8-14efa7f8ed39",
   "metadata": {},
   "outputs": [
    {
     "name": "stdout",
     "output_type": "stream",
     "text": [
      "Original:\n",
      "\n",
      "    I go daily to the gym, because I think fitness is the key to a healthy life.\n",
      "  \n",
      "Augmented Text:\n",
      "['I AP go Olive daily to finest the gym, because deriving I think fitness WYLIE is the key to a Monafeghin healthy life.']\n"
     ]
    }
   ],
   "source": [
    "# Initialize the augmenter with model \"word2vec\"\n",
    "aug = naw.WordEmbsAug(\n",
    "  # You can choose from \"word2vec\", \"glove\", or \"fasttext\" \n",
    "  model_type = 'word2vec', \n",
    "  model_path = 'GoogleNews-vectors-negative300.bin',\n",
    "  # You may also choose \"insert\"\n",
    "  action = \"insert\")\n",
    "\n",
    "# Augment the text\n",
    "augmented_text = aug.augment(text)\n",
    "print(\"Original:\")\n",
    "print(text)\n",
    "print(\"Augmented Text:\")\n",
    "print(augmented_text)"
   ]
  },
  {
   "cell_type": "markdown",
   "id": "0c1dd37f-ded9-48a2-87be-0956305bc2ca",
   "metadata": {},
   "source": [
    "### Glove"
   ]
  },
  {
   "cell_type": "code",
   "execution_count": 16,
   "id": "bcd8eaba-7da8-41da-bd77-e443cf99e18e",
   "metadata": {},
   "outputs": [
    {
     "name": "stdout",
     "output_type": "stream",
     "text": [
      "Original:\n",
      "\n",
      "    I go daily to the gym, because I think fitness is the key to a healthy life.\n",
      "  \n",
      "Augmented Text:\n",
      "['I go daily to through gym, because I anybody fitness is however issues to a mature they.']\n"
     ]
    }
   ],
   "source": [
    "# Initialize the augmenter with model \"glove\"\n",
    "aug = naw.WordEmbsAug(\n",
    "  # You can choose from \"word2vec\", \"glove\", or \"fasttext\" \n",
    "  model_type = 'glove', \n",
    "  # Note: check your \"content\" path to find out specific model names\n",
    "  model_path = 'glove.6B.300d.txt',\n",
    "  # You may also choose \"insert\"\n",
    "  action = \"substitute\")\n",
    "\n",
    "# Augment the text\n",
    "augmented_text = aug.augment(text)\n",
    "print(\"Original:\")\n",
    "print(text)\n",
    "print(\"Augmented Text:\")\n",
    "print(augmented_text)"
   ]
  },
  {
   "cell_type": "code",
   "execution_count": 18,
   "id": "82bed25b-3e85-4d7f-ba99-c747e4cfea61",
   "metadata": {},
   "outputs": [
    {
     "name": "stdout",
     "output_type": "stream",
     "text": [
      "Original:\n",
      "\n",
      "    I go daily to the gym, because I think fitness is the key to a healthy life.\n",
      "  \n",
      "Augmented Text:\n",
      "[\"I go daily fluker to the gym, '88 because I value think fitness matko is the mijn key to petrovice a healthy life.\"]\n"
     ]
    }
   ],
   "source": [
    "# Initialize the augmenter with model \"glove\"\n",
    "aug = naw.WordEmbsAug(\n",
    "  # You can choose from \"word2vec\", \"glove\", or \"fasttext\" \n",
    "  model_type = 'glove', \n",
    "  # Note: check your \"content\" path to find out specific model names\n",
    "  model_path = 'glove.6B.300d.txt',\n",
    "  # You may also choose \"insert\"\n",
    "  action = \"insert\")\n",
    "\n",
    "# Augment the text\n",
    "augmented_text = aug.augment(text)\n",
    "print(\"Original:\")\n",
    "print(text)\n",
    "print(\"Augmented Text:\")\n",
    "print(augmented_text)"
   ]
  },
  {
   "cell_type": "markdown",
   "id": "75326595-a740-4563-b0e3-93c0579acc5f",
   "metadata": {},
   "source": [
    "### Fasttext"
   ]
  },
  {
   "cell_type": "code",
   "execution_count": 22,
   "id": "7261e355-bb45-4d2c-9688-f6cb8ef0eaf1",
   "metadata": {},
   "outputs": [
    {
     "name": "stdout",
     "output_type": "stream",
     "text": [
      "Original:\n",
      "\n",
      "    I go daily to the gym, because I think fitness is the key to a healthy life.\n",
      "  \n",
      "Augmented Text:\n",
      "['I miss two-weekly to most gym, why moment.I think fitness is several key to a healthy life.']\n"
     ]
    }
   ],
   "source": [
    "# Initialize the augmenter with model \"fasttext\"\n",
    "aug = naw.WordEmbsAug(\n",
    "  # You can choose from \"word2vec\", \"glove\", or \"fasttext\" \n",
    "  model_type = 'fasttext', \n",
    "  # Note: check your \"content\" path to find out specific model names\n",
    "  model_path = 'wiki-news-300d-1M.vec',\n",
    "  # You may also choose \"insert\"\n",
    "  action = \"substitute\")\n",
    "\n",
    "# Augment the text\n",
    "augmented_text = aug.augment(text)\n",
    "print(\"Original:\")\n",
    "print(text)\n",
    "print(\"Augmented Text:\")\n",
    "print(augmented_text)"
   ]
  },
  {
   "cell_type": "code",
   "execution_count": 23,
   "id": "a7525c77-6ebe-4cb5-8d7d-b867c78020e4",
   "metadata": {
    "scrolled": true
   },
   "outputs": [
    {
     "name": "stdout",
     "output_type": "stream",
     "text": [
      "Original:\n",
      "\n",
      "    I go daily to the gym, because I think fitness is the key to a healthy life.\n",
      "  \n",
      "Augmented Text:\n",
      "['four-octave I go daily Ejaculation to the gym, business-building because I think Eline fitness is cross-denominational the key to father-and-daughter a healthy life.']\n"
     ]
    }
   ],
   "source": [
    "# Initialize the augmenter with model \"fasttext\"\n",
    "aug = naw.WordEmbsAug(\n",
    "  # You can choose from \"word2vec\", \"glove\", or \"fasttext\" \n",
    "  model_type = 'fasttext', \n",
    "  # Note: check your \"content\" path to find out specific model names\n",
    "  model_path = 'wiki-news-300d-1M.vec',\n",
    "  # You may also choose \"insert\"\n",
    "  action = \"insert\")\n",
    "\n",
    "# Augment the text\n",
    "augmented_text = aug.augment(text)\n",
    "print(\"Original:\")\n",
    "print(text)\n",
    "print(\"Augmented Text:\")\n",
    "print(augmented_text)"
   ]
  },
  {
   "cell_type": "markdown",
   "id": "3ae4653a-e5e8-43b4-9606-1e4af319b23f",
   "metadata": {},
   "source": [
    "# Contextual word embedding Substitute vs Insertion"
   ]
  },
  {
   "cell_type": "code",
   "execution_count": 27,
   "id": "d3700e31-4a59-4773-a892-ba4993b747e2",
   "metadata": {},
   "outputs": [
    {
     "name": "stdout",
     "output_type": "stream",
     "text": [
      "Original:\n",
      "\n",
      "    I go daily to the gym, because I think fitness is the key to a healthy life.\n",
      "  \n",
      "Augmented Text:\n",
      "['i write daily to the wall, because i think this remains his key to a healthy wellness.']\n"
     ]
    }
   ],
   "source": [
    "## Substitute word by contextual word embeddings (BERT, DistilBERT, RoBERTA or XLNet)\n",
    "aug = naw.ContextualWordEmbsAug(\n",
    "  # Other models include 'distilbert-base-uncased', 'roberta-base', etc.\n",
    "  model_path = 'bert-base-uncased', \n",
    "  # You can also choose \"insert\"\n",
    "  action = \"substitute\")\n",
    "augmented_text = aug.augment(text)\n",
    "print(\"Original:\")\n",
    "print(text)\n",
    "print(\"Augmented Text:\")\n",
    "print(augmented_text)"
   ]
  },
  {
   "cell_type": "code",
   "execution_count": 28,
   "id": "112c6672-9154-4660-9ca8-2fb4863530d5",
   "metadata": {},
   "outputs": [
    {
     "name": "stdout",
     "output_type": "stream",
     "text": [
      "Original:\n",
      "\n",
      "    I go daily to the gym, because I think fitness is the key to a healthy life.\n",
      "  \n",
      "Augmented Text:\n",
      "['i often go once daily to the campus gym, because here i think fitness is the key to building a social healthy life.']\n"
     ]
    }
   ],
   "source": [
    "## Substitute word by contextual word embeddings (BERT, DistilBERT, RoBERTA or XLNet)\n",
    "aug = naw.ContextualWordEmbsAug(\n",
    "  # Other models include 'distilbert-base-uncased', 'roberta-base', etc.\n",
    "  model_path = 'bert-base-uncased', \n",
    "  # You can also choose \"insert\"\n",
    "  action = \"insert\")\n",
    "augmented_text = aug.augment(text)\n",
    "print(\"Original:\")\n",
    "print(text)\n",
    "print(\"Augmented Text:\")\n",
    "print(augmented_text)"
   ]
  },
  {
   "cell_type": "markdown",
   "id": "8bedd35d-d080-47b0-9617-bd386e64a6fa",
   "metadata": {},
   "source": [
    "# Synonym Augmenter"
   ]
  },
  {
   "cell_type": "code",
   "execution_count": 32,
   "id": "3f9aa127-34f3-4dcb-a8ad-30722032a1a2",
   "metadata": {},
   "outputs": [
    {
     "name": "stdout",
     "output_type": "stream",
     "text": [
      "Original:\n",
      "\n",
      "    I go daily to the gym, because I think fitness is the key to a healthy life.\n",
      "  \n",
      "Augmented Text:\n",
      "['1 lead daily to the gym, because 1 imagine fitness is the key fruit to a healthy life.']\n"
     ]
    }
   ],
   "source": [
    "## Substitute word by WordNet's synonym\n",
    "aug = naw.SynonymAug(aug_src = 'wordnet')\n",
    "augmented_text = aug.augment(text)\n",
    "print(\"Original:\")\n",
    "print(text)\n",
    "print(\"Augmented Text:\")\n",
    "print(augmented_text)"
   ]
  },
  {
   "cell_type": "code",
   "execution_count": 35,
   "id": "93615af0-dcf6-441b-935e-a46bfb61013b",
   "metadata": {},
   "outputs": [
    {
     "name": "stdout",
     "output_type": "stream",
     "text": [
      "Original:\n",
      "\n",
      "    I go daily to the gym, because I think fitness is the key to a healthy life.\n",
      "  \n",
      "Augmented Text:\n",
      "['Unity go daily to the gym, because I think physical fitness is the key to a intelligent life story.']\n"
     ]
    }
   ],
   "source": [
    "\n",
    "## Substitute word by WordNet's synonym.\n",
    "# You can optionally set the max number of words to replace with synonym.\n",
    "aug = naw.SynonymAug(aug_src = 'wordnet', aug_max = 10)\n",
    "augmented_text = aug.augment(text, )\n",
    "print(\"Original:\")\n",
    "print(text)\n",
    "print(\"Augmented Text:\")\n",
    "print(augmented_text)"
   ]
  },
  {
   "cell_type": "code",
   "execution_count": 40,
   "id": "8224db0d-0d63-4038-8704-113a068b4397",
   "metadata": {},
   "outputs": [
    {
     "data": {
      "text/plain": [
       "['I go to the gym every day because I believe that fitness is the key to a healthy life.']"
      ]
     },
     "execution_count": 40,
     "metadata": {},
     "output_type": "execute_result"
    }
   ],
   "source": [
    "# Use back translation augmenter\n",
    "back_translation_aug = naw.BackTranslationAug()\n",
    "back_translation_aug.augment(text)\n",
    "     "
   ]
  }
 ],
 "metadata": {
  "kernelspec": {
   "display_name": "Python 3 (ipykernel)",
   "language": "python",
   "name": "python3"
  },
  "language_info": {
   "codemirror_mode": {
    "name": "ipython",
    "version": 3
   },
   "file_extension": ".py",
   "mimetype": "text/x-python",
   "name": "python",
   "nbconvert_exporter": "python",
   "pygments_lexer": "ipython3",
   "version": "3.11.7"
  }
 },
 "nbformat": 4,
 "nbformat_minor": 5
}
